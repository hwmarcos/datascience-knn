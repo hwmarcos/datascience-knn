{
 "cells": [
  {
   "cell_type": "code",
   "execution_count": 6,
   "metadata": {},
   "outputs": [],
   "source": [
    "arr = []\n",
    "with open('haberman.txt', 'r') as f:\n",
    "    for line in f.readlines():\n",
    "        atrib = line.replace('\\n', '').split(',')\n",
    "        arr.append([int(atrib[0]), int(atrib[1]), int(atrib[2]), int(atrib[3])])"
   ]
  },
  {
   "cell_type": "code",
   "execution_count": 8,
   "metadata": {},
   "outputs": [
    {
     "data": {
      "text/plain": [
       "306"
      ]
     },
     "execution_count": 8,
     "metadata": {},
     "output_type": "execute_result"
    }
   ],
   "source": [
    "len(arr)"
   ]
  },
  {
   "cell_type": "code",
   "execution_count": 10,
   "metadata": {},
   "outputs": [
    {
     "data": {
      "text/plain": [
       "[[30, 64, 1, 1],\n",
       " [30, 62, 3, 1],\n",
       " [30, 65, 0, 1],\n",
       " [31, 59, 2, 1],\n",
       " [31, 65, 4, 1],\n",
       " [33, 58, 10, 1],\n",
       " [33, 60, 0, 1],\n",
       " [34, 59, 0, 2],\n",
       " [34, 66, 9, 2],\n",
       " [34, 58, 30, 1],\n",
       " [34, 60, 1, 1],\n",
       " [34, 61, 10, 1],\n",
       " [34, 67, 7, 1],\n",
       " [34, 60, 0, 1],\n",
       " [35, 64, 13, 1],\n",
       " [35, 63, 0, 1],\n",
       " [36, 60, 1, 1],\n",
       " [36, 69, 0, 1],\n",
       " [37, 60, 0, 1],\n",
       " [37, 63, 0, 1],\n",
       " [37, 58, 0, 1],\n",
       " [37, 59, 6, 1],\n",
       " [37, 60, 15, 1],\n",
       " [37, 63, 0, 1],\n",
       " [38, 69, 21, 2],\n",
       " [38, 59, 2, 1],\n",
       " [38, 60, 0, 1],\n",
       " [38, 60, 0, 1],\n",
       " [38, 62, 3, 1],\n",
       " [38, 64, 1, 1],\n",
       " [38, 66, 0, 1],\n",
       " [38, 66, 11, 1],\n",
       " [38, 60, 1, 1],\n",
       " [38, 67, 5, 1],\n",
       " [39, 66, 0, 2],\n",
       " [39, 63, 0, 1],\n",
       " [39, 67, 0, 1],\n",
       " [39, 58, 0, 1],\n",
       " [39, 59, 2, 1],\n",
       " [39, 63, 4, 1],\n",
       " [40, 58, 2, 1],\n",
       " [40, 58, 0, 1],\n",
       " [40, 65, 0, 1],\n",
       " [41, 60, 23, 2],\n",
       " [41, 64, 0, 2],\n",
       " [41, 67, 0, 2],\n",
       " [41, 58, 0, 1],\n",
       " [41, 59, 8, 1],\n",
       " [41, 59, 0, 1],\n",
       " [41, 64, 0, 1],\n",
       " [41, 69, 8, 1],\n",
       " [41, 65, 0, 1],\n",
       " [41, 65, 0, 1],\n",
       " [42, 69, 1, 2],\n",
       " [42, 59, 0, 2],\n",
       " [42, 58, 0, 1],\n",
       " [42, 60, 1, 1],\n",
       " [42, 59, 2, 1],\n",
       " [42, 61, 4, 1],\n",
       " [42, 62, 20, 1],\n",
       " [42, 65, 0, 1],\n",
       " [42, 63, 1, 1],\n",
       " [43, 58, 52, 2],\n",
       " [43, 59, 2, 2],\n",
       " [43, 64, 0, 2],\n",
       " [43, 64, 0, 2],\n",
       " [43, 63, 14, 1],\n",
       " [43, 64, 2, 1],\n",
       " [43, 64, 3, 1],\n",
       " [43, 60, 0, 1],\n",
       " [43, 63, 2, 1],\n",
       " [43, 65, 0, 1],\n",
       " [43, 66, 4, 1],\n",
       " [44, 64, 6, 2],\n",
       " [44, 58, 9, 2],\n",
       " [44, 63, 19, 2],\n",
       " [44, 61, 0, 1],\n",
       " [44, 63, 1, 1],\n",
       " [44, 61, 0, 1],\n",
       " [44, 67, 16, 1],\n",
       " [45, 65, 6, 2],\n",
       " [45, 66, 0, 2],\n",
       " [45, 67, 1, 2],\n",
       " [45, 60, 0, 1],\n",
       " [45, 67, 0, 1],\n",
       " [45, 59, 14, 1],\n",
       " [45, 64, 0, 1],\n",
       " [45, 68, 0, 1],\n",
       " [45, 67, 1, 1],\n",
       " [46, 58, 2, 2],\n",
       " [46, 69, 3, 2],\n",
       " [46, 62, 5, 2],\n",
       " [46, 65, 20, 2],\n",
       " [46, 62, 0, 1],\n",
       " [46, 58, 3, 1],\n",
       " [46, 63, 0, 1],\n",
       " [47, 63, 23, 2],\n",
       " [47, 62, 0, 2],\n",
       " [47, 65, 0, 2],\n",
       " [47, 61, 0, 1],\n",
       " [47, 63, 6, 1],\n",
       " [47, 66, 0, 1],\n",
       " [47, 67, 0, 1],\n",
       " [47, 58, 3, 1],\n",
       " [47, 60, 4, 1],\n",
       " [47, 68, 4, 1],\n",
       " [47, 66, 12, 1],\n",
       " [48, 58, 11, 2],\n",
       " [48, 58, 11, 2],\n",
       " [48, 67, 7, 2],\n",
       " [48, 61, 8, 1],\n",
       " [48, 62, 2, 1],\n",
       " [48, 64, 0, 1],\n",
       " [48, 66, 0, 1],\n",
       " [49, 63, 0, 2],\n",
       " [49, 64, 10, 2],\n",
       " [49, 61, 1, 1],\n",
       " [49, 62, 0, 1],\n",
       " [49, 66, 0, 1],\n",
       " [49, 60, 1, 1],\n",
       " [49, 62, 1, 1],\n",
       " [49, 63, 3, 1],\n",
       " [49, 61, 0, 1],\n",
       " [49, 67, 1, 1],\n",
       " [50, 63, 13, 2],\n",
       " [50, 64, 0, 2],\n",
       " [50, 59, 0, 1],\n",
       " [50, 61, 6, 1],\n",
       " [50, 61, 0, 1],\n",
       " [50, 63, 1, 1],\n",
       " [50, 58, 1, 1],\n",
       " [50, 59, 2, 1],\n",
       " [50, 61, 0, 1],\n",
       " [50, 64, 0, 1],\n",
       " [50, 65, 4, 1],\n",
       " [50, 66, 1, 1],\n",
       " [51, 59, 13, 2],\n",
       " [51, 59, 3, 2],\n",
       " [51, 64, 7, 1],\n",
       " [51, 59, 1, 1],\n",
       " [51, 65, 0, 1],\n",
       " [51, 66, 1, 1],\n",
       " [52, 69, 3, 2],\n",
       " [52, 59, 2, 2],\n",
       " [52, 62, 3, 2],\n",
       " [52, 66, 4, 2],\n",
       " [52, 61, 0, 1],\n",
       " [52, 63, 4, 1],\n",
       " [52, 69, 0, 1],\n",
       " [52, 60, 4, 1],\n",
       " [52, 60, 5, 1],\n",
       " [52, 62, 0, 1],\n",
       " [52, 62, 1, 1],\n",
       " [52, 64, 0, 1],\n",
       " [52, 65, 0, 1],\n",
       " [52, 68, 0, 1],\n",
       " [53, 58, 4, 2],\n",
       " [53, 65, 1, 2],\n",
       " [53, 59, 3, 2],\n",
       " [53, 60, 9, 2],\n",
       " [53, 63, 24, 2],\n",
       " [53, 65, 12, 2],\n",
       " [53, 58, 1, 1],\n",
       " [53, 60, 1, 1],\n",
       " [53, 60, 2, 1],\n",
       " [53, 61, 1, 1],\n",
       " [53, 63, 0, 1],\n",
       " [54, 60, 11, 2],\n",
       " [54, 65, 23, 2],\n",
       " [54, 65, 5, 2],\n",
       " [54, 68, 7, 2],\n",
       " [54, 59, 7, 1],\n",
       " [54, 60, 3, 1],\n",
       " [54, 66, 0, 1],\n",
       " [54, 67, 46, 1],\n",
       " [54, 62, 0, 1],\n",
       " [54, 69, 7, 1],\n",
       " [54, 63, 19, 1],\n",
       " [54, 58, 1, 1],\n",
       " [54, 62, 0, 1],\n",
       " [55, 63, 6, 2],\n",
       " [55, 68, 15, 2],\n",
       " [55, 58, 1, 1],\n",
       " [55, 58, 0, 1],\n",
       " [55, 58, 1, 1],\n",
       " [55, 66, 18, 1],\n",
       " [55, 66, 0, 1],\n",
       " [55, 69, 3, 1],\n",
       " [55, 69, 22, 1],\n",
       " [55, 67, 1, 1],\n",
       " [56, 65, 9, 2],\n",
       " [56, 66, 3, 2],\n",
       " [56, 60, 0, 1],\n",
       " [56, 66, 2, 1],\n",
       " [56, 66, 1, 1],\n",
       " [56, 67, 0, 1],\n",
       " [56, 60, 0, 1],\n",
       " [57, 61, 5, 2],\n",
       " [57, 62, 14, 2],\n",
       " [57, 64, 1, 2],\n",
       " [57, 64, 9, 1],\n",
       " [57, 69, 0, 1],\n",
       " [57, 61, 0, 1],\n",
       " [57, 62, 0, 1],\n",
       " [57, 63, 0, 1],\n",
       " [57, 64, 0, 1],\n",
       " [57, 64, 0, 1],\n",
       " [57, 67, 0, 1],\n",
       " [58, 59, 0, 1],\n",
       " [58, 60, 3, 1],\n",
       " [58, 61, 1, 1],\n",
       " [58, 67, 0, 1],\n",
       " [58, 58, 0, 1],\n",
       " [58, 58, 3, 1],\n",
       " [58, 61, 2, 1],\n",
       " [59, 62, 35, 2],\n",
       " [59, 60, 0, 1],\n",
       " [59, 63, 0, 1],\n",
       " [59, 64, 1, 1],\n",
       " [59, 64, 4, 1],\n",
       " [59, 64, 0, 1],\n",
       " [59, 64, 7, 1],\n",
       " [59, 67, 3, 1],\n",
       " [60, 59, 17, 2],\n",
       " [60, 65, 0, 2],\n",
       " [60, 61, 1, 1],\n",
       " [60, 67, 2, 1],\n",
       " [60, 61, 25, 1],\n",
       " [60, 64, 0, 1],\n",
       " [61, 62, 5, 2],\n",
       " [61, 65, 0, 2],\n",
       " [61, 68, 1, 2],\n",
       " [61, 59, 0, 1],\n",
       " [61, 59, 0, 1],\n",
       " [61, 64, 0, 1],\n",
       " [61, 65, 8, 1],\n",
       " [61, 68, 0, 1],\n",
       " [61, 59, 0, 1],\n",
       " [62, 59, 13, 2],\n",
       " [62, 58, 0, 2],\n",
       " [62, 65, 19, 2],\n",
       " [62, 62, 6, 1],\n",
       " [62, 66, 0, 1],\n",
       " [62, 66, 0, 1],\n",
       " [62, 58, 0, 1],\n",
       " [63, 60, 1, 2],\n",
       " [63, 61, 0, 1],\n",
       " [63, 62, 0, 1],\n",
       " [63, 63, 0, 1],\n",
       " [63, 63, 0, 1],\n",
       " [63, 66, 0, 1],\n",
       " [63, 61, 9, 1],\n",
       " [63, 61, 28, 1],\n",
       " [64, 58, 0, 1],\n",
       " [64, 65, 22, 1],\n",
       " [64, 66, 0, 1],\n",
       " [64, 61, 0, 1],\n",
       " [64, 68, 0, 1],\n",
       " [65, 58, 0, 2],\n",
       " [65, 61, 2, 2],\n",
       " [65, 62, 22, 2],\n",
       " [65, 66, 15, 2],\n",
       " [65, 58, 0, 1],\n",
       " [65, 64, 0, 1],\n",
       " [65, 67, 0, 1],\n",
       " [65, 59, 2, 1],\n",
       " [65, 64, 0, 1],\n",
       " [65, 67, 1, 1],\n",
       " [66, 58, 0, 2],\n",
       " [66, 61, 13, 2],\n",
       " [66, 58, 0, 1],\n",
       " [66, 58, 1, 1],\n",
       " [66, 68, 0, 1],\n",
       " [67, 64, 8, 2],\n",
       " [67, 63, 1, 2],\n",
       " [67, 66, 0, 1],\n",
       " [67, 66, 0, 1],\n",
       " [67, 61, 0, 1],\n",
       " [67, 65, 0, 1],\n",
       " [68, 67, 0, 1],\n",
       " [68, 68, 0, 1],\n",
       " [69, 67, 8, 2],\n",
       " [69, 60, 0, 1],\n",
       " [69, 65, 0, 1],\n",
       " [69, 66, 0, 1],\n",
       " [70, 58, 0, 2],\n",
       " [70, 58, 4, 2],\n",
       " [70, 66, 14, 1],\n",
       " [70, 67, 0, 1],\n",
       " [70, 68, 0, 1],\n",
       " [70, 59, 8, 1],\n",
       " [70, 63, 0, 1],\n",
       " [71, 68, 2, 1],\n",
       " [72, 63, 0, 2],\n",
       " [72, 58, 0, 1],\n",
       " [72, 64, 0, 1],\n",
       " [72, 67, 3, 1],\n",
       " [73, 62, 0, 1],\n",
       " [73, 68, 0, 1],\n",
       " [74, 65, 3, 2],\n",
       " [74, 63, 0, 1],\n",
       " [75, 62, 1, 1],\n",
       " [76, 67, 0, 1],\n",
       " [77, 65, 3, 1],\n",
       " [78, 65, 1, 2],\n",
       " [83, 58, 2, 2]]"
      ]
     },
     "execution_count": 10,
     "metadata": {},
     "output_type": "execute_result"
    }
   ],
   "source": [
    "arr"
   ]
  },
  {
   "cell_type": "code",
   "execution_count": 12,
   "metadata": {},
   "outputs": [],
   "source": [
    "def info_dataset(arr, verbose=True):\n",
    "    if verbose:\n",
    "        print('Total %d' % len(arr))\n",
    "    lbl1, lbl2 = 0, 0\n",
    "    for a in arr:\n",
    "        if a[-1] == 1: # last column is the class of the dataset\n",
    "            lbl1 += 1\n",
    "        else:\n",
    "            lbl2 += 1\n",
    "    if verbose:\n",
    "         print('Total Label 1 %d' % lbl1)\n",
    "         print('Total Label 2 %d' % lbl2)\n",
    "    return [len(arr), lbl1, lbl2]"
   ]
  },
  {
   "cell_type": "code",
   "execution_count": 13,
   "metadata": {},
   "outputs": [
    {
     "name": "stdout",
     "output_type": "stream",
     "text": [
      "Total 306\n",
      "Total Label 1 225\n",
      "Total Label 2 81\n"
     ]
    },
    {
     "data": {
      "text/plain": [
       "[306, 225, 81]"
      ]
     },
     "execution_count": 13,
     "metadata": {},
     "output_type": "execute_result"
    }
   ],
   "source": [
    "info_dataset(arr)"
   ]
  },
  {
   "cell_type": "code",
   "execution_count": 14,
   "metadata": {
    "collapsed": true
   },
   "outputs": [],
   "source": [
    "p = 0.6 #60% train 40% test\n",
    "_, lbl1, lbl2 = info_dataset(arr, False)"
   ]
  },
  {
   "cell_type": "code",
   "execution_count": 22,
   "metadata": {},
   "outputs": [],
   "source": [
    "train, test = [], []\n",
    "max_lbl1, max_lbl2 = int(p * lbl1), int(p * lbl2)\n",
    "total_lbl1, total_lbl2 = 0, 0\n",
    "for a in arr:\n",
    "    if(total_lbl1 + total_lbl2) < (max_lbl1 + max_lbl2):\n",
    "       train.append(a)\n",
    "       if a[-1] == 1 and total_lbl1 < max_lbl1:     \n",
    "           total_lbl1 += 1\n",
    "       else:\n",
    "           total_lbl2 += 1\n",
    "    else:\n",
    "        test.append(a)"
   ]
  },
  {
   "cell_type": "code",
   "execution_count": 26,
   "metadata": {},
   "outputs": [
    {
     "name": "stdout",
     "output_type": "stream",
     "text": [
      "Total 183\n",
      "Total Label 1 132\n",
      "Total Label 2 51\n"
     ]
    },
    {
     "data": {
      "text/plain": [
       "[183, 132, 51]"
      ]
     },
     "execution_count": 26,
     "metadata": {},
     "output_type": "execute_result"
    }
   ],
   "source": [
    "info_dataset(train)"
   ]
  },
  {
   "cell_type": "code",
   "execution_count": 27,
   "metadata": {},
   "outputs": [
    {
     "name": "stdout",
     "output_type": "stream",
     "text": [
      "Total 123\n",
      "Total Label 1 93\n",
      "Total Label 2 30\n"
     ]
    },
    {
     "data": {
      "text/plain": [
       "[123, 93, 30]"
      ]
     },
     "execution_count": 27,
     "metadata": {},
     "output_type": "execute_result"
    }
   ],
   "source": [
    "info_dataset(test)"
   ]
  },
  {
   "cell_type": "code",
   "execution_count": 28,
   "metadata": {},
   "outputs": [
    {
     "name": "stdout",
     "output_type": "stream",
     "text": [
      "Total 306\n",
      "Total Label 1 225\n",
      "Total Label 2 81\n"
     ]
    },
    {
     "data": {
      "text/plain": [
       "[306, 225, 81]"
      ]
     },
     "execution_count": 28,
     "metadata": {},
     "output_type": "execute_result"
    }
   ],
   "source": [
    "info_dataset(arr)"
   ]
  },
  {
   "cell_type": "code",
   "execution_count": 36,
   "metadata": {
    "collapsed": true
   },
   "outputs": [],
   "source": [
    "import math"
   ]
  },
  {
   "cell_type": "code",
   "execution_count": 38,
   "metadata": {},
   "outputs": [],
   "source": [
    "def dist_eucl(v1, v2):\n",
    "    dim, total = len(v1), 0\n",
    "    for i in range(dim - 1):        \n",
    "        total += math.pow(v1[i] - v2[i], 2)\n",
    "    return math.sqrt(total)"
   ]
  },
  {
   "cell_type": "code",
   "execution_count": 39,
   "metadata": {},
   "outputs": [
    {
     "data": {
      "text/plain": [
       "1.4142135623730951"
      ]
     },
     "execution_count": 39,
     "metadata": {},
     "output_type": "execute_result"
    }
   ],
   "source": [
    "#test distancia euclidiana\n",
    "v1 = [1, 2, 3]\n",
    "v2 = [2, 1, 3]\n",
    "dist_eucl(v1, v2)"
   ]
  },
  {
   "cell_type": "code",
   "execution_count": 52,
   "metadata": {},
   "outputs": [],
   "source": [
    "def knn(train, arr, k):\n",
    "    dists, total_train = {}, len(train)\n",
    "    #calcula a distancia euclidiana da nova amosta\n",
    "    #para todos os outros exemplos do conjunto de treinamento\n",
    "    for i in range(total_train):\n",
    "        d = dist_eucl(train[i], arr)\n",
    "        dists[i] = d\n",
    "    #obtem as chaves dos k vizinhos mais próximos\n",
    "    k_vizinhos = sorted(dists, key=dists.get)[:k]\n",
    "    #votação majoritária\n",
    "    qtd_lbl1, qtd_lbl2 = 0, 0\n",
    "    for idx in k_vizinhos:\n",
    "        if train[idx][-1] == 1:\n",
    "            qtd_lbl1 += 1\n",
    "        else:\n",
    "            qtd_lbl2 += 1\n",
    "        \n",
    "    if qtd_lbl1 > qtd_lbl2:\n",
    "        return 1\n",
    "    else:\n",
    "        return 2"
   ]
  },
  {
   "cell_type": "code",
   "execution_count": 58,
   "metadata": {},
   "outputs": [
    {
     "name": "stdout",
     "output_type": "stream",
     "text": [
      "[56, 66, 2, 1]\n",
      "2\n"
     ]
    }
   ],
   "source": [
    "print(test[10])\n",
    "print(knn(train, test[10], 5))"
   ]
  },
  {
   "cell_type": "code",
   "execution_count": 67,
   "metadata": {},
   "outputs": [
    {
     "name": "stdout",
     "output_type": "stream",
     "text": [
      "total train: 183\n",
      "total test: 123\n",
      "total acertos: 93\n",
      "percent acertos: 75.61%\n"
     ]
    }
   ],
   "source": [
    "acertos, k = 0, 13 #13 é a raiz quadrada de 183 (total de treinamento)\n",
    "for a in test:\n",
    "    classe = knn(train, a, k)\n",
    "    if a[-1] == classe:\n",
    "        acertos += 1\n",
    "        \n",
    "print('total train: %d' % len(train))\n",
    "print('total test: %d' % len(test))\n",
    "print('total acertos: %d' % acertos)\n",
    "print('percent acertos: %.2f%%' % (acertos * 100 /len(test)))"
   ]
  },
  {
   "cell_type": "code",
   "execution_count": null,
   "metadata": {
    "collapsed": true
   },
   "outputs": [],
   "source": []
  }
 ],
 "metadata": {
  "kernelspec": {
   "display_name": "Python 3",
   "language": "python",
   "name": "python3"
  },
  "language_info": {
   "codemirror_mode": {
    "name": "ipython",
    "version": 3
   },
   "file_extension": ".py",
   "mimetype": "text/x-python",
   "name": "python",
   "nbconvert_exporter": "python",
   "pygments_lexer": "ipython3",
   "version": "3.6.1"
  }
 },
 "nbformat": 4,
 "nbformat_minor": 2
}
