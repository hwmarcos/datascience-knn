{
 "cells": [
  {
   "cell_type": "code",
   "execution_count": 48,
   "metadata": {
    "collapsed": true
   },
   "outputs": [],
   "source": [
    "#pip install -U scikit-learn\n",
    "from sklearn.neighbors import KNeighborsClassifier"
   ]
  },
  {
   "cell_type": "code",
   "execution_count": 49,
   "metadata": {
    "collapsed": true
   },
   "outputs": [],
   "source": [
    "entradas, saidas = [], []"
   ]
  },
  {
   "cell_type": "code",
   "execution_count": 50,
   "metadata": {
    "collapsed": true
   },
   "outputs": [],
   "source": [
    "with open('haberman.txt', 'r') as f:\n",
    "    for line in f.readlines():\n",
    "        atrib = line.replace('\\n', '').split(',')\n",
    "        entradas.append([int(atrib[0]), int(atrib[2])])\n",
    "        saidas.append([int(atrib[3])])"
   ]
  },
  {
   "cell_type": "code",
   "execution_count": 51,
   "metadata": {
    "collapsed": true
   },
   "outputs": [],
   "source": [
    "p = 0.6 #percentual do dataset para treinamento\n",
    "limite = int(p * len(entradas))"
   ]
  },
  {
   "cell_type": "code",
   "execution_count": 53,
   "metadata": {},
   "outputs": [
    {
     "name": "stdout",
     "output_type": "stream",
     "text": [
      "Total de treinamento: 183\n",
      "Total de testes: 123\n",
      "Total de acertos: 92\n",
      "Porcentagem de acertos: 74.80%\n"
     ]
    },
    {
     "name": "stderr",
     "output_type": "stream",
     "text": [
      "/home/helder/anaconda3/lib/python3.6/site-packages/ipykernel_launcher.py:2: DataConversionWarning: A column-vector y was passed when a 1d array was expected. Please change the shape of y to (n_samples, ), for example using ravel().\n",
      "  \n"
     ]
    }
   ],
   "source": [
    "knn = KNeighborsClassifier(n_neighbors=15)\n",
    "knn.fit(entradas[:limite], saidas[:limite]) #treinamento\n",
    "labels = knn.predict(entradas[limite:]) #testando\n",
    "\n",
    "acertos, indice_label = 0, 0\n",
    "for i in range(limite, len(entradas)):\n",
    "\tif labels[indice_label] == saidas[i]:\n",
    "\t\tacertos += 1\n",
    "\tindice_label += 1\n",
    "\n",
    "print('Total de treinamento: %d' % limite)\n",
    "print('Total de testes: %d' % (len(entradas) - limite))\n",
    "print('Total de acertos: %d' % acertos)\n",
    "print('Porcentagem de acertos: %.2f%%' % (100 * acertos / (len(entradas) - limite)))"
   ]
  },
  {
   "cell_type": "code",
   "execution_count": null,
   "metadata": {
    "collapsed": true
   },
   "outputs": [],
   "source": []
  }
 ],
 "metadata": {
  "kernelspec": {
   "display_name": "Python 3",
   "language": "python",
   "name": "python3"
  },
  "language_info": {
   "codemirror_mode": {
    "name": "ipython",
    "version": 3
   },
   "file_extension": ".py",
   "mimetype": "text/x-python",
   "name": "python",
   "nbconvert_exporter": "python",
   "pygments_lexer": "ipython3",
   "version": "3.6.1"
  }
 },
 "nbformat": 4,
 "nbformat_minor": 2
}
